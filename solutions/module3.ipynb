{
 "cells": [
  {
   "cell_type": "markdown",
   "metadata": {},
   "source": [
    "## 3.1\n",
    "\n",
    "*You have a 50,000 portfolio.  You are considering levering it -- borrowing 25,000 to increase the investment to 75,000.  You can borrow at 5%.*"
   ]
  },
  {
   "cell_type": "markdown",
   "metadata": {},
   "source": [
    "  1. *Suppose the unlevered investment earns 10% and 5% interest is rolled into your debt.  What are your assets, liabilities, and equity (equity = net portfolio value)?  What was your return on your 50,000?*"
   ]
  },
  {
   "cell_type": "markdown",
   "metadata": {},
   "source": [
    "Your assets are 82,500 of stock, your liabilities are 26,250 of debt, and your equity is 56,250.  You gained 6,250, which is a 12.5% return."
   ]
  },
  {
   "cell_type": "markdown",
   "metadata": {},
   "source": [
    "2. *Repeat part (1) assuming the unlevered investment loses 10%.*"
   ]
  },
  {
   "cell_type": "markdown",
   "metadata": {},
   "source": [
    "In this case, your assets are 67,500 of stock, your liabilities are 26,250 of debt, and your equity is 41,250.  This is a loss of 8,750, which is a return of -17.5%."
   ]
  },
  {
   "cell_type": "markdown",
   "metadata": {},
   "source": [
    "## 3.2 \n",
    "\n",
    "*A 6% coupon bond makes semi-annual coupon payments (3% each six months).  It has 10 years to maturity, and the next coupon payment is six months away.  Its current yield is 8%.  What is its price?*"
   ]
  },
  {
   "cell_type": "code",
   "execution_count": 10,
   "metadata": {},
   "outputs": [
    {
     "name": "stdout",
     "output_type": "stream",
     "text": [
      "Price per $100 face value is $86.41\n"
     ]
    }
   ],
   "source": [
    "import numpy as np \n",
    "coupons = 3 * np.ones(20)\n",
    "face = 100\n",
    "yld = 0.08\n",
    "pv_coupons = np.sum(coupons * (1+yld/2)**np.arange(-1, -21, -1))\n",
    "pv_face = face / (1+yld/2)**20\n",
    "print(f\"Price per $100 face value is ${pv_coupons+pv_face:.2f}\")"
   ]
  },
  {
   "cell_type": "markdown",
   "metadata": {},
   "source": [
    "## 3.3\n",
    "\n",
    "1.  *Navigate to the forward curve page at the Rice Business Investments Compendium.  Enter the CME gold futures contract and move the slider to 2021-01.  Find the price of the contract that matured in 23 months (price=settle).  This is a price in $ per ounce of gold.  Suppose you buy the futures contract at this price.  Now move the slider ahead 12 months to 2022-01.  The contract you bought now has 11 months to maturity.  Suppose you sell it at the 2022-01 futures price.  How much did you make or lose per ounce?*"
   ]
  },
  {
   "cell_type": "markdown",
   "metadata": {},
   "source": [
    "The question didn't give exact dates.  You could have used 2021-01-13 and 2022-01-11 or you could have used 2021-01-27 and 2022-01-25.  In the former case, the prices were 1884 and 1829, so you lost 55.  In the latter case, the prices were 1868 and 1866, so you lost 2."
   ]
  },
  {
   "cell_type": "markdown",
   "metadata": {},
   "source": [
    "2. *Go to the CME's website and find the contract specifications for the gold contract.  How many ounces of gold are in a single contract?  If you bought and sold one contract in question #1, how much money did you make or lose?*"
   ]
  },
  {
   "cell_type": "markdown",
   "metadata": {},
   "source": [
    "A contract is for 100 troy ounces, so you either lost 5,500 or 200."
   ]
  }
 ],
 "metadata": {
  "kernelspec": {
   "display_name": "Python 3",
   "language": "python",
   "name": "python3"
  },
  "language_info": {
   "codemirror_mode": {
    "name": "ipython",
    "version": 3
   },
   "file_extension": ".py",
   "mimetype": "text/x-python",
   "name": "python",
   "nbconvert_exporter": "python",
   "pygments_lexer": "ipython3",
   "version": "3.10.11"
  }
 },
 "nbformat": 4,
 "nbformat_minor": 2
}
