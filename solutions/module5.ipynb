{
 "cells": [
  {
   "cell_type": "markdown",
   "metadata": {},
   "source": [
    "## 5.1"
   ]
  },
  {
   "cell_type": "markdown",
   "metadata": {},
   "source": [
    "1.  A certain investment is a coin flip. You will either lose 10% of your portfolio or win some percent. Decide how large the win must be in order for you to be willing to flip the coin (there is no right or wrong answer for this). State this amount as a %.  Let x denote the amount as a decimal.  Given x, the mean of the gamble is m = (x-0.1)/2.   The variance of the gamble is (1/2)(x-m)**2 + (1/2)(-0.1-m)**2.  Calculate the number A such that mean - (A/2)*variance = 0.  The number A is an estimate of your risk aversion. "
   ]
  },
  {
   "cell_type": "markdown",
   "metadata": {},
   "source": [
    "Suppose, for example, that you would need to win 15%."
   ]
  },
  {
   "cell_type": "code",
   "execution_count": 8,
   "metadata": {},
   "outputs": [
    {
     "name": "stdout",
     "output_type": "stream",
     "text": [
      "Risk aversion is 3.20\n"
     ]
    }
   ],
   "source": [
    "mean = (0.15 - 0.10) / 2\n",
    "variance = (0.15 - mean)**2 / 2 + (-0.10 - mean)**2/2\n",
    "raver = 2*mean/variance\n",
    "print(f\"Risk aversion is {raver:.2f}\")"
   ]
  },
  {
   "cell_type": "markdown",
   "metadata": {},
   "source": [
    "2.  Using the asset data from Exercise 4.4 and the risk aversion calculated in part 1, calculate the optimal portfolio."
   ]
  },
  {
   "cell_type": "code",
   "execution_count": 9,
   "metadata": {},
   "outputs": [
    {
     "data": {
      "text/plain": [
       "array([ 1.18,  0.92,  0.85, -0.31])"
      ]
     },
     "execution_count": 9,
     "metadata": {},
     "output_type": "execute_result"
    }
   ],
   "source": [
    "import numpy as np \n",
    "\n",
    "means = np.array([0.08, 0.12, 0.15, 0.12])\n",
    "stdevs = np.array([0.1, 0.15, 0.2, 0.3])\n",
    "rf = 0.03 \n",
    "corr = np.diag(np.ones(4))\n",
    "corr[0, 1] = corr[1, 0] = 0.3\n",
    "corr[0, 2] = corr[2, 0] = 0.2\n",
    "corr[0, 3] = corr[3, 0] = 0.4\n",
    "corr[1, 2] = corr[2, 1] = 0.3\n",
    "corr[1, 3] = corr[3, 1] = 0.4\n",
    "corr[2, 3] = corr[3, 2] = 0.5\n",
    "\n",
    "cov = np.diag(stdevs) @ corr @ np.diag(stdevs)\n",
    "w = (1/raver) * np.linalg.inv(cov) @ (means - rf)\n",
    "w.round(2)"
   ]
  },
  {
   "cell_type": "markdown",
   "metadata": {},
   "source": [
    "## 5.2\n",
    "\n",
    "Compute the optimal portfolio from Exercise 5.1 using cvxopt."
   ]
  },
  {
   "cell_type": "code",
   "execution_count": 10,
   "metadata": {},
   "outputs": [
    {
     "data": {
      "text/plain": [
       "array([ 1.18,  0.92,  0.85, -0.31])"
      ]
     },
     "execution_count": 10,
     "metadata": {},
     "output_type": "execute_result"
    }
   ],
   "source": [
    "from cvxopt import matrix\n",
    "from cvxopt.solvers import qp\n",
    "\n",
    "P = raver * cov\n",
    "q = - (means - rf).reshape(4, 1)\n",
    "sol = qp(\n",
    "    P=matrix(P),\n",
    "    q=matrix(q),\n",
    "    A=None,\n",
    "    b=None,\n",
    ")\n",
    "w = np.array(sol[\"x\"]).flatten()\n",
    "w.round(2)"
   ]
  },
  {
   "cell_type": "markdown",
   "metadata": {},
   "source": [
    "## 5.3\n",
    "\n",
    "Solve for the optimal portfolio under the same assumptions as in Exercise 5.1, except assume that the borrowing rate is 6%."
   ]
  },
  {
   "cell_type": "code",
   "execution_count": 11,
   "metadata": {},
   "outputs": [
    {
     "name": "stdout",
     "output_type": "stream",
     "text": [
      "     pcost       dcost       gap    pres   dres\n",
      " 0: -1.0640e-01 -7.4509e-02  2e+00  1e+00  1e+00\n",
      " 1: -7.8515e-02 -1.3844e-01  6e-02  2e-02  2e-02\n",
      " 2: -1.0000e-01 -1.0796e-01  8e-03  2e-16  8e-18\n",
      " 3: -1.0686e-01 -1.0712e-01  3e-04  2e-16  2e-17\n",
      " 4: -1.0693e-01 -1.0693e-01  3e-06  1e-16  2e-17\n",
      " 5: -1.0693e-01 -1.0693e-01  3e-08  7e-21  1e-17\n",
      "Optimal solution found.\n"
     ]
    },
    {
     "data": {
      "text/plain": [
       "array([ 0.28,  0.66,  0.66, -0.18])"
      ]
     },
     "execution_count": 11,
     "metadata": {},
     "output_type": "execute_result"
    }
   ],
   "source": [
    "rs = 0.03 \n",
    "rb = 0.06 \n",
    "\n",
    "P = np.zeros((6, 6))\n",
    "P[2:, 2:] = raver * cov \n",
    "q = - np.concatenate(([rs, -rb], means)).reshape(6, 1)\n",
    "A = np.concatenate(([1, -1], np.ones(4))).reshape(1, 6)\n",
    "b = np.ones(1).reshape(1, 1)\n",
    "G = np.zeros((2, 6))\n",
    "G[0, 0] = G[1, 1] = - 1\n",
    "h = np.zeros(2).reshape(2, 1)\n",
    "\n",
    "sol = qp(\n",
    "    P=matrix(P),\n",
    "    q=matrix(q),\n",
    "    A=matrix(A),\n",
    "    b=matrix(b),\n",
    "    G=matrix(G),\n",
    "    h=matrix(h)\n",
    ")\n",
    "x = np.array(sol[\"x\"]).flatten()\n",
    "x[2:].round(2)"
   ]
  },
  {
   "cell_type": "markdown",
   "metadata": {},
   "source": [
    "## 5.4\n",
    "\n",
    "Repeat Exercise 4.5 but assume that the saving rate is 3% and the borrowing rate is 6%."
   ]
  },
  {
   "cell_type": "code",
   "execution_count": 12,
   "metadata": {},
   "outputs": [
    {
     "name": "stdout",
     "output_type": "stream",
     "text": [
      "     pcost       dcost       gap    pres   dres\n",
      " 0:  1.3089e-02  3.0583e-03  2e+00  1e+00  1e+00\n",
      " 1:  4.4135e-03 -4.1901e-02  5e-02  4e-02  4e-02\n",
      " 2:  9.4407e-04 -6.7799e-04  2e-03  1e-16  8e-18\n",
      " 3:  2.0357e-04  5.9923e-06  2e-04  2e-15  2e-18\n",
      " 4:  8.6147e-05  7.0370e-05  2e-05  6e-16  6e-19\n",
      " 5:  7.2670e-05  7.2422e-05  2e-07  1e-15  4e-19\n",
      " 6:  7.2439e-05  7.2436e-05  2e-09  6e-15  3e-19\n",
      "Optimal solution found.\n",
      "     pcost       dcost       gap    pres   dres\n",
      " 0:  7.3899e-03  9.9689e-04  2e+00  1e+00  1e+00\n",
      " 1:  3.3439e-03 -3.1569e-02  4e-02  3e-02  3e-02\n",
      " 2:  2.1076e-03  8.5234e-05  2e-03  4e-17  4e-18\n",
      " 3:  8.1505e-04  6.1307e-04  2e-04  2e-15  1e-18\n",
      " 4:  6.5384e-04  6.5138e-04  2e-06  1e-15  1e-18\n",
      " 5:  6.5195e-04  6.5192e-04  2e-08  9e-16  9e-19\n",
      "Optimal solution found.\n",
      "     pcost       dcost       gap    pres   dres\n",
      " 0:  4.3160e-03  1.6858e-03  2e+00  1e+00  1e+00\n",
      " 1:  4.5800e-03 -1.8566e-02  2e-02  1e-02  1e-02\n",
      " 2:  3.5393e-03  1.1273e-03  2e-03  4e-16  7e-18\n",
      " 3:  1.8530e-03  1.7047e-03  1e-04  8e-16  2e-18\n",
      " 4:  1.8113e-03  1.8098e-03  2e-06  2e-16  2e-18\n",
      " 5:  1.8109e-03  1.8109e-03  2e-08  2e-16  6e-19\n",
      "Optimal solution found.\n",
      "     pcost       dcost       gap    pres   dres\n",
      " 0:  3.8677e-03  5.1251e-03  2e+00  1e+00  1e+00\n",
      " 1:  8.0606e-03 -2.0516e-02  3e-02  2e-02  2e-02\n",
      " 2:  6.0753e-03  2.6474e-03  3e-03  4e-16  6e-18\n",
      " 3:  3.6137e-03  3.2476e-03  4e-04  2e-16  5e-18\n",
      " 4:  3.5684e-03  3.5276e-03  4e-05  1e-16  3e-18\n",
      " 5:  3.5496e-03  3.5491e-03  5e-07  3e-17  4e-18\n",
      " 6:  3.5494e-03  3.5494e-03  5e-09  3e-17  3e-18\n",
      "Optimal solution found.\n",
      "     pcost       dcost       gap    pres   dres\n",
      " 0:  6.0451e-03  6.0613e-03  5e-03  1e+00  8e-18\n",
      " 1:  6.0584e-03  6.0613e-03  6e-05  2e-02  5e-18\n",
      " 2:  6.0614e-03  6.0614e-03  8e-07  2e-04  7e-19\n",
      " 3:  6.0614e-03  6.0614e-03  8e-09  2e-06  4e-18\n",
      " 4:  6.0614e-03  6.0614e-03  8e-11  2e-08  5e-18\n",
      "Optimal solution found.\n",
      "     pcost       dcost       gap    pres   dres\n",
      " 0:  1.0848e-02  2.0400e-02  2e+00  1e+00  1e+00\n",
      " 1:  2.1918e-02 -2.8331e-02  5e-02  3e-02  3e-02\n",
      " 2:  1.5808e-02  9.9603e-03  6e-03  3e-16  6e-18\n",
      " 3:  1.0771e-02  1.0553e-02  2e-04  3e-16  1e-17\n",
      " 4:  1.0655e-02  1.0648e-02  6e-06  1e-18  1e-17\n",
      " 5:  1.0654e-02  1.0654e-02  6e-08  2e-16  1e-17\n",
      "Optimal solution found.\n",
      "     pcost       dcost       gap    pres   dres\n",
      " 0:  1.8277e-02  3.2334e-02  2e+00  1e+00  1e+00\n",
      " 1:  3.2400e-02 -2.8429e-02  6e-02  3e-02  3e-02\n",
      " 2:  2.2922e-02  1.5779e-02  7e-03  2e-15  1e-17\n",
      " 3:  1.6706e-02  1.6512e-02  2e-04  1e-15  8e-18\n",
      " 4:  1.6647e-02  1.6645e-02  2e-06  2e-16  9e-18\n",
      " 5:  1.6646e-02  1.6646e-02  2e-08  2e-16  1e-17\n",
      "Optimal solution found.\n",
      "     pcost       dcost       gap    pres   dres\n",
      " 0:  2.8331e-02  4.7128e-02  2e+00  1e+00  1e+00\n",
      " 1:  4.5240e-02 -2.5772e-02  7e-02  4e-02  4e-02\n",
      " 2:  3.1518e-02  2.2627e-02  9e-03  2e-15  1e-17\n",
      " 3:  2.4043e-02  2.3739e-02  3e-04  4e-16  2e-17\n",
      " 4:  2.3971e-02  2.3968e-02  3e-06  2e-16  1e-17\n",
      " 5:  2.3971e-02  2.3971e-02  3e-08  4e-16  6e-18\n",
      "Optimal solution found.\n",
      "     pcost       dcost       gap    pres   dres\n",
      " 0:  4.1011e-02  6.4782e-02  2e+00  1e+00  1e+00\n",
      " 1:  6.0449e-02 -2.0368e-02  8e-02  5e-02  4e-02\n",
      " 2:  4.1613e-02  3.0092e-02  1e-02  5e-16  2e-17\n",
      " 3:  3.2716e-02  3.2137e-02  6e-04  4e-16  1e-17\n",
      " 4:  3.2628e-02  3.2622e-02  6e-06  4e-16  8e-18\n",
      " 5:  3.2627e-02  3.2627e-02  6e-08  2e-16  9e-18\n",
      "Optimal solution found.\n"
     ]
    },
    {
     "data": {
      "image/png": "[encoded data removed]",
      "text/plain": [
       "<Figure size 640x480 with 1 Axes>"
      ]
     },
     "metadata": {},
     "output_type": "display_data"
    }
   ],
   "source": [
    "P = np.zeros((6, 6))\n",
    "q = np.zeros((6, 1))\n",
    "P[2:, 2:] = cov \n",
    "G = np.zeros((2, 6))\n",
    "G[0, 0] = G[1, 1] = - 1\n",
    "h = np.zeros(2).reshape(2, 1)\n",
    "A = np.zeros((2, 6))\n",
    "A[0, :] = np.concatenate(([1, -1], np.ones(4)))\n",
    "A[1, :] = np.concatenate(([rs, -rb], means))\n",
    "b = np.ones((2, 1))\n",
    "ports = []\n",
    "\n",
    "for targ in np.arange(0.04, 0.22, 0.02):\n",
    "    b[1, 0] = targ\n",
    "    sol = qp(\n",
    "        P=matrix(P),\n",
    "        q=matrix(q),\n",
    "        A=matrix(A),\n",
    "        b=matrix(b),\n",
    "        G=matrix(G),\n",
    "        h=matrix(h)\n",
    "    )\n",
    "    ports.append(np.array(sol[\"x\"]).flatten())\n",
    "\n",
    "mns = [A[1, :] @ w for w in ports]\n",
    "sds = np.sqrt([w @ P @ w for w in ports])\n",
    "\n",
    "import matplotlib.pyplot as plt\n",
    "import seaborn as sns\n",
    "sns.set_style(\"whitegrid\")\n",
    "plt.scatter(sds, mns)\n",
    "plt.xlabel(\"Standard Deviation\")\n",
    "plt.ylabel(\"Expected Return\")\n",
    "plt.show()"
   ]
  },
  {
   "cell_type": "markdown",
   "metadata": {},
   "source": [
    "## 5.5\n",
    "\n",
    "Compute monthly and annual AAPL stock returns using Yahoo's Adjusted Close for the time period 1990 through 2022.  \n",
    "\n",
    "1.  What is the standard deviation of the annual returns?\n",
    "\n",
    "2.  What is sqrt(12)*std dev of the monthly returns?\n",
    "\n",
    "3.  According to Module 5, which is the better estimate of the standard deviation of AAPL's annual stock return?"
   ]
  },
  {
   "cell_type": "code",
   "execution_count": 13,
   "metadata": {},
   "outputs": [
    {
     "name": "stdout",
     "output_type": "stream",
     "text": [
      "Annual std dev is 71.17%\n",
      "Annualized monthly std dev is 42.44%\n",
      "The annualized monthly std dev is a better estimate.\n"
     ]
    }
   ],
   "source": [
    "import yfinance as yf\n",
    "price = yf.download(\"AAPL\", start=\"1989-01-01\", progress=False)[\"Adj Close\"]\n",
    "price_monthly = price.resample(\"M\").last()\n",
    "price_annual = price.resample(\"Y\").last()\n",
    "ret_monthly = price_monthly.pct_change()\n",
    "ret_annual = price_annual.pct_change()\n",
    "ret_monthly = ret_monthly[\n",
    "    (ret_monthly.index >=\"1990-01-01\") & (ret_monthly.index <= \"2022-12-31\")\n",
    "]\n",
    "ret_annual = ret_annual[\n",
    "    (ret_annual.index >=\"1990-01-01\") & (ret_annual.index <= \"2022-12-31\")\n",
    "]\n",
    "print(f\"Annual std dev is {ret_annual.std():.2%}\")\n",
    "print(f\"Annualized monthly std dev is {np.sqrt(12)*ret_monthly.std():.2%}\")\n",
    "print(\"The annualized monthly std dev is a better estimate.\")"
   ]
  },
  {
   "cell_type": "markdown",
   "metadata": {},
   "source": [
    "## 5.6\n",
    "\n",
    "Use the webpage https://learn-investments.rice-business.org/portfolios/optimal-sb to find the means, standard deviations, and correlations of stocks, Treasury bonds, corporate bonds, and gold over the time period 1980-2022.  Using your estimate of risk aversion from Exercise 5.1, compute the optimal portfolio when the savings rate is 3%, the borrowing rate is 6%. and short sales are not allowed. "
   ]
  },
  {
   "cell_type": "code",
   "execution_count": 14,
   "metadata": {},
   "outputs": [
    {
     "name": "stdout",
     "output_type": "stream",
     "text": [
      "     pcost       dcost       gap    pres   dres\n",
      " 0: -6.9843e-02 -7.0717e-01  8e+00  3e+00  3e+00\n",
      " 1: -5.2179e-02 -1.3877e+00  2e+00  6e-01  6e-01\n",
      " 2: -3.1509e-02 -1.3039e-01  1e-01  2e-15  1e-16\n",
      " 3: -8.4655e-02 -9.7074e-02  1e-02  2e-16  3e-17\n",
      " 4: -9.1959e-02 -9.3015e-02  1e-03  2e-16  6e-18\n",
      " 5: -9.2534e-02 -9.2551e-02  2e-05  2e-16  8e-18\n",
      " 6: -9.2539e-02 -9.2540e-02  2e-07  1e-16  2e-17\n",
      " 7: -9.2539e-02 -9.2539e-02  2e-09  3e-16  6e-18\n",
      "Optimal solution found.\n"
     ]
    },
    {
     "data": {
      "text/plain": [
       "S&P 500       0.56\n",
       "Gold          0.00\n",
       "Corporates    0.87\n",
       "Treasuries    0.00\n",
       "dtype: float64"
      ]
     },
     "execution_count": 14,
     "metadata": {},
     "output_type": "execute_result"
    }
   ],
   "source": [
    "# using assets = (stocks, gold, corporates, Treasuries)\n",
    "# \n",
    "means = np.array([0.127, 0.041, 0.092, 0.07])\n",
    "stdevs = np.array([0.166, 0.155, 0.086, 0.106])\n",
    "corr = np.diag(np.ones(4))\n",
    "corr[0, 1] = corr[1, 0] = -0.016\n",
    "corr[0, 2] = corr[2, 0] = 0.451\n",
    "corr[0, 3] = corr[3, 0] = 0.039\n",
    "corr[1, 2] = corr[2, 1] = 0.137\n",
    "corr[1, 3] = corr[3, 1] = 0.054\n",
    "corr[2, 3] = corr[3, 2] = 0.652\n",
    "cov = np.diag(stdevs) @ corr @ np.diag(stdevs)\n",
    "\n",
    "P = np.zeros((6, 6))\n",
    "P[2:, 2:] = raver * cov \n",
    "q = - np.concatenate(([rs, -rb], means)).reshape(6, 1)\n",
    "A = np.concatenate(([1, -1], np.ones(4))).reshape(1, 6)\n",
    "b = np.ones(1).reshape(1, 1)\n",
    "G = - np.identity(6)\n",
    "h = np.zeros((6, 1))\n",
    "\n",
    "sol = qp(\n",
    "    P=matrix(P),\n",
    "    q=matrix(q),\n",
    "    A=matrix(A),\n",
    "    b=matrix(b),\n",
    "    G=matrix(G),\n",
    "    h=matrix(h)\n",
    ")\n",
    "x = np.array(sol[\"x\"]).flatten()\n",
    "import pandas as pd\n",
    "pd.Series(x[2:], index=[\"S&P 500\", \"Gold\", \"Corporates\", \"Treasuries\"]).round(2)"
   ]
  }
 ],
 "metadata": {
  "kernelspec": {
   "display_name": "Python 3",
   "language": "python",
   "name": "python3"
  },
  "language_info": {
   "codemirror_mode": {
    "name": "ipython",
    "version": 3
   },
   "file_extension": ".py",
   "mimetype": "text/x-python",
   "name": "python",
   "nbconvert_exporter": "python",
   "pygments_lexer": "ipython3",
   "version": "3.10.5"
  }
 },
 "nbformat": 4,
 "nbformat_minor": 2
}
